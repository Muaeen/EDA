{
 "cells": [
  {
   "cell_type": "markdown",
   "id": "a18c484a",
   "metadata": {},
   "source": [
    "# Introduction\n",
    "*****\n",
    "In data science, we utilize various and diverse data to make informed decisions. In this project, we will explain the EDA, data manpulation, principles and techniques of data science from a computational and inferential thinking perspective. The following steps are involved:\n",
    "\n",
    "1. Formulating the question or problem.\n",
    "2. Finding and cleaning the data.\n",
    "3. Exploratory data analysis.\n",
    "4. Using prediction and inference to derive insights.\n",
    "\n",
    "It is expected that further questions and problems will arise after the last step. At that point, we can go back to the steps again to discover any new characteristics in our problem. This positive iteration in our work is called the **data science lifecycle**.\n",
    "\n",
    "If the data science lifecycle were easy, we wouldn't need project to explain it. Fortunately, each step presents different challenges that reveal new ideas, which serve as the basis for making well-informed decisions using data."
   ]
  },
  {
   "cell_type": "code",
   "execution_count": 1,
   "id": "ecc430a4",
   "metadata": {},
   "outputs": [],
   "source": [
    "# import necessary libraries\n",
    "import pandas as pd\n",
    "import numpy as np\n",
    "import matplotlib.pyplot as plt\n",
    "import seaborn as sns"
   ]
  },
  {
   "cell_type": "markdown",
   "id": "27ad60d1",
   "metadata": {},
   "source": [
    "# Data Students\n",
    "\n",
    "**The data science lifecycle consists of the following steps:**\n",
    "\n",
    "1. Formulating the Question or Problem:\n",
    "- What do we want to know or what problem do we want to solve?\n",
    "- What are the hypotheses?\n",
    "- What are our success metrics?\n",
    "\n",
    "2. Finding and Cleaning the Data:\n",
    "- What data do we have available and what data are we looking for?\n",
    "- How can we gather more data?\n",
    "- How do we organize the data to start the analysis?\n",
    "\n",
    "3. Exploratory Data Analysis:\n",
    "- Do we have data relevant to our problem?\n",
    "- Do the data contain biases, outliers, or other issues?\n",
    "- How do we transform the data to help us perform effective analysis?\n",
    "\n",
    "4. Prediction and Inference:\n",
    "- What do the data tell us?\n",
    "- Did they answer the question or solve the problem?\n",
    "- What is the strength of our findings?\n",
    "\n",
    "We will now experiment with these steps on a dataset of first names for Data students from previous semesters.\n",
    "\n",
    "**Formulating the Question or Problem:**\n",
    "We want to know if the first names of the students provide us with additional information about them. Although the question may seem somewhat vague, it is enough to work with the available data and we can refine the question during our work to make it more precise.\n",
    "\n",
    "**Finding and Cleaning the Data:**\n",
    "Let's start by taking a quick look at the available data. The data is a list of first names of students."
   ]
  },
  {
   "cell_type": "code",
   "execution_count": 2,
   "id": "f3ea7d4e",
   "metadata": {},
   "outputs": [
    {
     "data": {
      "text/html": [
       "<div>\n",
       "<style scoped>\n",
       "    .dataframe tbody tr th:only-of-type {\n",
       "        vertical-align: middle;\n",
       "    }\n",
       "\n",
       "    .dataframe tbody tr th {\n",
       "        vertical-align: top;\n",
       "    }\n",
       "\n",
       "    .dataframe thead th {\n",
       "        text-align: right;\n",
       "    }\n",
       "</style>\n",
       "<table border=\"1\" class=\"dataframe\">\n",
       "  <thead>\n",
       "    <tr style=\"text-align: right;\">\n",
       "      <th></th>\n",
       "      <th>Name</th>\n",
       "      <th>Role</th>\n",
       "    </tr>\n",
       "  </thead>\n",
       "  <tbody>\n",
       "    <tr>\n",
       "      <th>0</th>\n",
       "      <td>Keeley</td>\n",
       "      <td>Student</td>\n",
       "    </tr>\n",
       "    <tr>\n",
       "      <th>1</th>\n",
       "      <td>John</td>\n",
       "      <td>Student</td>\n",
       "    </tr>\n",
       "    <tr>\n",
       "      <th>2</th>\n",
       "      <td>BRYAN</td>\n",
       "      <td>Student</td>\n",
       "    </tr>\n",
       "    <tr>\n",
       "      <th>3</th>\n",
       "      <td>Kaylan</td>\n",
       "      <td>Student</td>\n",
       "    </tr>\n",
       "    <tr>\n",
       "      <th>4</th>\n",
       "      <td>Sol</td>\n",
       "      <td>Student</td>\n",
       "    </tr>\n",
       "    <tr>\n",
       "      <th>...</th>\n",
       "      <td>...</td>\n",
       "      <td>...</td>\n",
       "    </tr>\n",
       "    <tr>\n",
       "      <th>274</th>\n",
       "      <td>Sukhbir</td>\n",
       "      <td>Student</td>\n",
       "    </tr>\n",
       "    <tr>\n",
       "      <th>275</th>\n",
       "      <td>Nicholas</td>\n",
       "      <td>Waitlist Student</td>\n",
       "    </tr>\n",
       "    <tr>\n",
       "      <th>276</th>\n",
       "      <td>Ernesto</td>\n",
       "      <td>Waitlist Student</td>\n",
       "    </tr>\n",
       "    <tr>\n",
       "      <th>277</th>\n",
       "      <td>Athan</td>\n",
       "      <td>Waitlist Student</td>\n",
       "    </tr>\n",
       "    <tr>\n",
       "      <th>278</th>\n",
       "      <td>Michael</td>\n",
       "      <td>Waitlist Student</td>\n",
       "    </tr>\n",
       "  </tbody>\n",
       "</table>\n",
       "<p>279 rows × 2 columns</p>\n",
       "</div>"
      ],
      "text/plain": [
       "         Name              Role\n",
       "0      Keeley           Student\n",
       "1        John           Student\n",
       "2       BRYAN           Student\n",
       "3      Kaylan           Student\n",
       "4         Sol           Student\n",
       "..        ...               ...\n",
       "274   Sukhbir           Student\n",
       "275  Nicholas  Waitlist Student\n",
       "276   Ernesto  Waitlist Student\n",
       "277     Athan  Waitlist Student\n",
       "278   Michael  Waitlist Student\n",
       "\n",
       "[279 rows x 2 columns]"
      ]
     },
     "execution_count": 2,
     "metadata": {},
     "output_type": "execute_result"
    }
   ],
   "source": [
    "data = pd.read_csv('Students.csv')\n",
    "data"
   ]
  },
  {
   "cell_type": "markdown",
   "id": "a3231046",
   "metadata": {},
   "source": [
    "We can quickly notice some issues in our data. For example, one of the students has their name written in all uppercase letters as BRYAN, and the meaning of the column \"Role\" is not clear. We also observe that the table contains two columns and 279 rows.\n",
    "\n",
    "**From this, we will learn how to identify and correct errors in our data**. The difference in capitalization in the name \"Bryan\" will make the program consider BRYAN different from Bryan, but in reality, they are the same person. Therefore, we will convert all names to lowercase :"
   ]
  },
  {
   "cell_type": "code",
   "execution_count": 3,
   "id": "01c5f340",
   "metadata": {},
   "outputs": [
    {
     "data": {
      "text/html": [
       "<div>\n",
       "<style scoped>\n",
       "    .dataframe tbody tr th:only-of-type {\n",
       "        vertical-align: middle;\n",
       "    }\n",
       "\n",
       "    .dataframe tbody tr th {\n",
       "        vertical-align: top;\n",
       "    }\n",
       "\n",
       "    .dataframe thead th {\n",
       "        text-align: right;\n",
       "    }\n",
       "</style>\n",
       "<table border=\"1\" class=\"dataframe\">\n",
       "  <thead>\n",
       "    <tr style=\"text-align: right;\">\n",
       "      <th></th>\n",
       "      <th>Name</th>\n",
       "      <th>Role</th>\n",
       "    </tr>\n",
       "  </thead>\n",
       "  <tbody>\n",
       "    <tr>\n",
       "      <th>0</th>\n",
       "      <td>keeley</td>\n",
       "      <td>Student</td>\n",
       "    </tr>\n",
       "    <tr>\n",
       "      <th>1</th>\n",
       "      <td>john</td>\n",
       "      <td>Student</td>\n",
       "    </tr>\n",
       "    <tr>\n",
       "      <th>2</th>\n",
       "      <td>bryan</td>\n",
       "      <td>Student</td>\n",
       "    </tr>\n",
       "    <tr>\n",
       "      <th>3</th>\n",
       "      <td>kaylan</td>\n",
       "      <td>Student</td>\n",
       "    </tr>\n",
       "    <tr>\n",
       "      <th>4</th>\n",
       "      <td>sol</td>\n",
       "      <td>Student</td>\n",
       "    </tr>\n",
       "    <tr>\n",
       "      <th>...</th>\n",
       "      <td>...</td>\n",
       "      <td>...</td>\n",
       "    </tr>\n",
       "    <tr>\n",
       "      <th>274</th>\n",
       "      <td>sukhbir</td>\n",
       "      <td>Student</td>\n",
       "    </tr>\n",
       "    <tr>\n",
       "      <th>275</th>\n",
       "      <td>nicholas</td>\n",
       "      <td>Waitlist Student</td>\n",
       "    </tr>\n",
       "    <tr>\n",
       "      <th>276</th>\n",
       "      <td>ernesto</td>\n",
       "      <td>Waitlist Student</td>\n",
       "    </tr>\n",
       "    <tr>\n",
       "      <th>277</th>\n",
       "      <td>athan</td>\n",
       "      <td>Waitlist Student</td>\n",
       "    </tr>\n",
       "    <tr>\n",
       "      <th>278</th>\n",
       "      <td>michael</td>\n",
       "      <td>Waitlist Student</td>\n",
       "    </tr>\n",
       "  </tbody>\n",
       "</table>\n",
       "<p>279 rows × 2 columns</p>\n",
       "</div>"
      ],
      "text/plain": [
       "         Name              Role\n",
       "0      keeley           Student\n",
       "1        john           Student\n",
       "2       bryan           Student\n",
       "3      kaylan           Student\n",
       "4         sol           Student\n",
       "..        ...               ...\n",
       "274   sukhbir           Student\n",
       "275  nicholas  Waitlist Student\n",
       "276   ernesto  Waitlist Student\n",
       "277     athan  Waitlist Student\n",
       "278   michael  Waitlist Student\n",
       "\n",
       "[279 rows x 2 columns]"
      ]
     },
     "execution_count": 3,
     "metadata": {},
     "output_type": "execute_result"
    }
   ],
   "source": [
    "data['Name'] = data['Name'].str.lower()\n",
    "data"
   ]
  },
  {
   "cell_type": "markdown",
   "id": "6a728b0c",
   "metadata": {},
   "source": [
    "# Exploratory Data Analysis (EDA)\n",
    "refers to the steps we take to understand the characteristics of the data and conduct subsequent analysis. Let's review student data:"
   ]
  },
  {
   "cell_type": "code",
   "execution_count": 4,
   "id": "6fad7f1c",
   "metadata": {},
   "outputs": [
    {
     "data": {
      "text/html": [
       "<div>\n",
       "<style scoped>\n",
       "    .dataframe tbody tr th:only-of-type {\n",
       "        vertical-align: middle;\n",
       "    }\n",
       "\n",
       "    .dataframe tbody tr th {\n",
       "        vertical-align: top;\n",
       "    }\n",
       "\n",
       "    .dataframe thead th {\n",
       "        text-align: right;\n",
       "    }\n",
       "</style>\n",
       "<table border=\"1\" class=\"dataframe\">\n",
       "  <thead>\n",
       "    <tr style=\"text-align: right;\">\n",
       "      <th></th>\n",
       "      <th>Name</th>\n",
       "      <th>Role</th>\n",
       "    </tr>\n",
       "  </thead>\n",
       "  <tbody>\n",
       "    <tr>\n",
       "      <th>0</th>\n",
       "      <td>keeley</td>\n",
       "      <td>Student</td>\n",
       "    </tr>\n",
       "    <tr>\n",
       "      <th>1</th>\n",
       "      <td>john</td>\n",
       "      <td>Student</td>\n",
       "    </tr>\n",
       "    <tr>\n",
       "      <th>2</th>\n",
       "      <td>bryan</td>\n",
       "      <td>Student</td>\n",
       "    </tr>\n",
       "  </tbody>\n",
       "</table>\n",
       "</div>"
      ],
      "text/plain": [
       "     Name     Role\n",
       "0  keeley  Student\n",
       "1    john  Student\n",
       "2   bryan  Student"
      ]
     },
     "execution_count": 4,
     "metadata": {},
     "output_type": "execute_result"
    }
   ],
   "source": [
    "data.head(3)"
   ]
  },
  {
   "cell_type": "markdown",
   "id": "e1b74721",
   "metadata": {},
   "source": [
    "Now we have some questions. How many students are there? What does the \"Role\" column mean? We perform exploratory data analysis (EDA) to answer such questions."
   ]
  },
  {
   "cell_type": "markdown",
   "id": "42189d7b",
   "metadata": {},
   "source": [
    "**How many students :**"
   ]
  },
  {
   "cell_type": "code",
   "execution_count": 5,
   "id": "624f5c26",
   "metadata": {},
   "outputs": [
    {
     "name": "stdout",
     "output_type": "stream",
     "text": [
      "There are 279, students\n"
     ]
    }
   ],
   "source": [
    "print(f'There are {len(data)}, students')"
   ]
  },
  {
   "cell_type": "markdown",
   "id": "76320404",
   "metadata": {},
   "source": [
    "The number of students we have is 279. The next question is always: Does the data include all the students? In our case, the table includes all the students one semester."
   ]
  },
  {
   "cell_type": "markdown",
   "id": "1cd4eba1",
   "metadata": {},
   "source": [
    "**What does the \"Role\" column mean?**\n",
    "Let's explore the data in this column to understand its meaning."
   ]
  },
  {
   "cell_type": "code",
   "execution_count": 6,
   "id": "19e49528",
   "metadata": {},
   "outputs": [
    {
     "data": {
      "text/html": [
       "<div>\n",
       "<style scoped>\n",
       "    .dataframe tbody tr th:only-of-type {\n",
       "        vertical-align: middle;\n",
       "    }\n",
       "\n",
       "    .dataframe tbody tr th {\n",
       "        vertical-align: top;\n",
       "    }\n",
       "\n",
       "    .dataframe thead th {\n",
       "        text-align: right;\n",
       "    }\n",
       "</style>\n",
       "<table border=\"1\" class=\"dataframe\">\n",
       "  <thead>\n",
       "    <tr style=\"text-align: right;\">\n",
       "      <th></th>\n",
       "      <th>Role</th>\n",
       "    </tr>\n",
       "  </thead>\n",
       "  <tbody>\n",
       "    <tr>\n",
       "      <th>Student</th>\n",
       "      <td>237</td>\n",
       "    </tr>\n",
       "    <tr>\n",
       "      <th>Waitlist Student</th>\n",
       "      <td>42</td>\n",
       "    </tr>\n",
       "  </tbody>\n",
       "</table>\n",
       "</div>"
      ],
      "text/plain": [
       "                  Role\n",
       "Student            237\n",
       "Waitlist Student    42"
      ]
     },
     "execution_count": 6,
     "metadata": {},
     "output_type": "execute_result"
    }
   ],
   "source": [
    "data['Role'].value_counts().to_frame()"
   ]
  },
  {
   "cell_type": "markdown",
   "id": "c45a372d",
   "metadata": {},
   "source": [
    "In the previous table, we can see that the data not only includes students who studied the subject \"Student\", but also students who are on the waitlist in the \"Waitlist Student\" column. So, the \"Role\" column tells us whether the student enrolled in the subject or not."
   ]
  },
  {
   "cell_type": "markdown",
   "id": "df393977",
   "metadata": {},
   "source": [
    "**What about the \"Name\" column? How can we explore it?**\n",
    "A quick way to understand the \"Name\" column is by knowing the number of characters in each name:"
   ]
  },
  {
   "cell_type": "code",
   "execution_count": 7,
   "id": "2af43f96",
   "metadata": {},
   "outputs": [
    {
     "name": "stderr",
     "output_type": "stream",
     "text": [
      "/Users/mu/opt/anaconda3/lib/python3.9/site-packages/seaborn/distributions.py:2619: FutureWarning: `distplot` is a deprecated function and will be removed in a future version. Please adapt your code to use either `displot` (a figure-level function with similar flexibility) or `histplot` (an axes-level function for histograms).\n",
      "  warnings.warn(msg, FutureWarning)\n",
      "/Users/mu/opt/anaconda3/lib/python3.9/site-packages/seaborn/distributions.py:2103: FutureWarning: The `axis` variable is no longer used and will be removed. Instead, assign variables directly to `x` or `y`.\n",
      "  warnings.warn(msg, FutureWarning)\n"
     ]
    },
    {
     "data": {
      "image/png": "[encoded data removed]",
      "text/plain": [
       "<Figure size 432x288 with 1 Axes>"
      ]
     },
     "metadata": {
      "needs_background": "light"
     },
     "output_type": "display_data"
    }
   ],
   "source": [
    "sns.distplot(data['Name'].str.len(),\n",
    "            bins=np.arange(12),\n",
    "            rug=True,\n",
    "            axlabel='Number of Characters')\n",
    "plt.xlim(0,12)\n",
    "plt.xticks(np.arange(12))\n",
    "plt.ylabel('Proportion per characte');"
   ]
  },
  {
   "cell_type": "markdown",
   "id": "f5d1b90f",
   "metadata": {},
   "source": [
    "The previous chart tells us that the majority of names have a length between 4 and 8 characters. This helps us understand whether our data is reasonable or not. If there are a lot of one-character names, it would be a suitable reason to re-explore the data.\n",
    "\n",
    "Although the data appears clear and simple, we will later discover how having only the first name can tell us a lot about our student population."
   ]
  },
  {
   "cell_type": "markdown",
   "id": "764d549f",
   "metadata": {},
   "source": [
    "# What's inside the Name column?\n",
    "\n",
    "Does the first name of the student tell us anything about the subject?\n",
    "\n",
    "We cleaned the data by converting all of it to lowercase. During exploratory data analysis, we noticed that we have about 280 students, some of whom have taken the subject and others who are on the waitlist. Most names range from 4 to 8 characters."
   ]
  },
  {
   "cell_type": "markdown",
   "id": "1987d8e4",
   "metadata": {},
   "source": [
    "What can we learn about the students of the subject from their names? Let's take one name as an example:"
   ]
  },
  {
   "cell_type": "code",
   "execution_count": 8,
   "id": "60730eb3",
   "metadata": {},
   "outputs": [
    {
     "data": {
      "text/plain": [
       "'jerry'"
      ]
     },
     "execution_count": 8,
     "metadata": {},
     "output_type": "execute_result"
    }
   ],
   "source": [
    "data['Name'][5]"
   ]
  },
  {
   "cell_type": "markdown",
   "id": "a60c09ec",
   "metadata": {},
   "source": [
    "From this name, we can say that the name belongs to a male. We can also make an assumption about the age of the student. For example, if we know that the name \"Jerry\" was popular among children born in 1998, we can predict that the age of the student is in their twenties."
   ]
  },
  {
   "cell_type": "markdown",
   "id": "0b638527",
   "metadata": {},
   "source": [
    "Thinking in this way led us to two questions:\n",
    "\n",
    "- Can it tell us the names of the students regarding the distribution of males and females?\n",
    "- Can it tell us the names of the students regarding the age distribution?"
   ]
  },
  {
   "cell_type": "markdown",
   "id": "d9587bc2",
   "metadata": {},
   "source": [
    "To answer these questions, we will need data that links names with gender and years. The Social Security Administration in the United States has such data and it is available online at my **GitHub account :https://github.com/Muaeen/EDA**."
   ]
  },
  {
   "cell_type": "code",
   "execution_count": 9,
   "id": "c930819a",
   "metadata": {},
   "outputs": [
    {
     "data": {
      "text/html": [
       "<div>\n",
       "<style scoped>\n",
       "    .dataframe tbody tr th:only-of-type {\n",
       "        vertical-align: middle;\n",
       "    }\n",
       "\n",
       "    .dataframe tbody tr th {\n",
       "        vertical-align: top;\n",
       "    }\n",
       "\n",
       "    .dataframe thead th {\n",
       "        text-align: right;\n",
       "    }\n",
       "</style>\n",
       "<table border=\"1\" class=\"dataframe\">\n",
       "  <thead>\n",
       "    <tr style=\"text-align: right;\">\n",
       "      <th></th>\n",
       "      <th>Name</th>\n",
       "      <th>Sex</th>\n",
       "      <th>Count</th>\n",
       "      <th>Year</th>\n",
       "    </tr>\n",
       "  </thead>\n",
       "  <tbody>\n",
       "    <tr>\n",
       "      <th>0</th>\n",
       "      <td>Mary</td>\n",
       "      <td>F</td>\n",
       "      <td>9217</td>\n",
       "      <td>1884</td>\n",
       "    </tr>\n",
       "    <tr>\n",
       "      <th>1</th>\n",
       "      <td>Anna</td>\n",
       "      <td>F</td>\n",
       "      <td>3860</td>\n",
       "      <td>1884</td>\n",
       "    </tr>\n",
       "    <tr>\n",
       "      <th>2</th>\n",
       "      <td>Emma</td>\n",
       "      <td>F</td>\n",
       "      <td>2587</td>\n",
       "      <td>1884</td>\n",
       "    </tr>\n",
       "    <tr>\n",
       "      <th>3</th>\n",
       "      <td>Elizabeth</td>\n",
       "      <td>F</td>\n",
       "      <td>2549</td>\n",
       "      <td>1884</td>\n",
       "    </tr>\n",
       "    <tr>\n",
       "      <th>4</th>\n",
       "      <td>Minnie</td>\n",
       "      <td>F</td>\n",
       "      <td>2243</td>\n",
       "      <td>1884</td>\n",
       "    </tr>\n",
       "    <tr>\n",
       "      <th>...</th>\n",
       "      <td>...</td>\n",
       "      <td>...</td>\n",
       "      <td>...</td>\n",
       "      <td>...</td>\n",
       "    </tr>\n",
       "    <tr>\n",
       "      <th>1891889</th>\n",
       "      <td>Titus</td>\n",
       "      <td>M</td>\n",
       "      <td>5</td>\n",
       "      <td>1883</td>\n",
       "    </tr>\n",
       "    <tr>\n",
       "      <th>1891890</th>\n",
       "      <td>Toney</td>\n",
       "      <td>M</td>\n",
       "      <td>5</td>\n",
       "      <td>1883</td>\n",
       "    </tr>\n",
       "    <tr>\n",
       "      <th>1891891</th>\n",
       "      <td>Verna</td>\n",
       "      <td>M</td>\n",
       "      <td>5</td>\n",
       "      <td>1883</td>\n",
       "    </tr>\n",
       "    <tr>\n",
       "      <th>1891892</th>\n",
       "      <td>Winnie</td>\n",
       "      <td>M</td>\n",
       "      <td>5</td>\n",
       "      <td>1883</td>\n",
       "    </tr>\n",
       "    <tr>\n",
       "      <th>1891893</th>\n",
       "      <td>Winthrop</td>\n",
       "      <td>M</td>\n",
       "      <td>5</td>\n",
       "      <td>1883</td>\n",
       "    </tr>\n",
       "  </tbody>\n",
       "</table>\n",
       "<p>1891894 rows × 4 columns</p>\n",
       "</div>"
      ],
      "text/plain": [
       "              Name Sex  Count  Year\n",
       "0             Mary   F   9217  1884\n",
       "1             Anna   F   3860  1884\n",
       "2             Emma   F   2587  1884\n",
       "3        Elizabeth   F   2549  1884\n",
       "4           Minnie   F   2243  1884\n",
       "...            ...  ..    ...   ...\n",
       "1891889      Titus   M      5  1883\n",
       "1891890      Toney   M      5  1883\n",
       "1891891      Verna   M      5  1883\n",
       "1891892     Winnie   M      5  1883\n",
       "1891893   Winthrop   M      5  1883\n",
       "\n",
       "[1891894 rows x 4 columns]"
      ]
     },
     "execution_count": 9,
     "metadata": {},
     "output_type": "execute_result"
    }
   ],
   "source": [
    "babyname = pd.read_csv('babynames.csv')\n",
    "babyname"
   ]
  },
  {
   "cell_type": "markdown",
   "id": "d3a187a4",
   "metadata": {},
   "source": [
    "The data contains the names, gender of the child, the number of children with this name, and the birth year of each child."
   ]
  },
  {
   "cell_type": "markdown",
   "id": "9369102f",
   "metadata": {},
   "source": [
    "First, let's present the number of male and female births each year:"
   ]
  },
  {
   "cell_type": "code",
   "execution_count": 10,
   "id": "5a508baf",
   "metadata": {},
   "outputs": [
    {
     "data": {
      "text/html": [
       "<div>\n",
       "<style scoped>\n",
       "    .dataframe tbody tr th:only-of-type {\n",
       "        vertical-align: middle;\n",
       "    }\n",
       "\n",
       "    .dataframe tbody tr th {\n",
       "        vertical-align: top;\n",
       "    }\n",
       "\n",
       "    .dataframe thead th {\n",
       "        text-align: right;\n",
       "    }\n",
       "</style>\n",
       "<table border=\"1\" class=\"dataframe\">\n",
       "  <thead>\n",
       "    <tr style=\"text-align: right;\">\n",
       "      <th>Sex</th>\n",
       "      <th>F</th>\n",
       "      <th>M</th>\n",
       "    </tr>\n",
       "    <tr>\n",
       "      <th>Year</th>\n",
       "      <th></th>\n",
       "      <th></th>\n",
       "    </tr>\n",
       "  </thead>\n",
       "  <tbody>\n",
       "    <tr>\n",
       "      <th>1880</th>\n",
       "      <td>90992</td>\n",
       "      <td>110491</td>\n",
       "    </tr>\n",
       "    <tr>\n",
       "      <th>1881</th>\n",
       "      <td>91953</td>\n",
       "      <td>100743</td>\n",
       "    </tr>\n",
       "    <tr>\n",
       "      <th>1882</th>\n",
       "      <td>107847</td>\n",
       "      <td>113686</td>\n",
       "    </tr>\n",
       "    <tr>\n",
       "      <th>1883</th>\n",
       "      <td>112318</td>\n",
       "      <td>104627</td>\n",
       "    </tr>\n",
       "    <tr>\n",
       "      <th>1884</th>\n",
       "      <td>129020</td>\n",
       "      <td>114443</td>\n",
       "    </tr>\n",
       "    <tr>\n",
       "      <th>...</th>\n",
       "      <td>...</td>\n",
       "      <td>...</td>\n",
       "    </tr>\n",
       "    <tr>\n",
       "      <th>2012</th>\n",
       "      <td>1756347</td>\n",
       "      <td>1892094</td>\n",
       "    </tr>\n",
       "    <tr>\n",
       "      <th>2013</th>\n",
       "      <td>1749061</td>\n",
       "      <td>1885683</td>\n",
       "    </tr>\n",
       "    <tr>\n",
       "      <th>2014</th>\n",
       "      <td>1779496</td>\n",
       "      <td>1913434</td>\n",
       "    </tr>\n",
       "    <tr>\n",
       "      <th>2015</th>\n",
       "      <td>1776538</td>\n",
       "      <td>1907211</td>\n",
       "    </tr>\n",
       "    <tr>\n",
       "      <th>2016</th>\n",
       "      <td>1756647</td>\n",
       "      <td>1880674</td>\n",
       "    </tr>\n",
       "  </tbody>\n",
       "</table>\n",
       "<p>137 rows × 2 columns</p>\n",
       "</div>"
      ],
      "text/plain": [
       "Sex         F        M\n",
       "Year                  \n",
       "1880    90992   110491\n",
       "1881    91953   100743\n",
       "1882   107847   113686\n",
       "1883   112318   104627\n",
       "1884   129020   114443\n",
       "...       ...      ...\n",
       "2012  1756347  1892094\n",
       "2013  1749061  1885683\n",
       "2014  1779496  1913434\n",
       "2015  1776538  1907211\n",
       "2016  1756647  1880674\n",
       "\n",
       "[137 rows x 2 columns]"
      ]
     },
     "execution_count": 10,
     "metadata": {},
     "output_type": "execute_result"
    }
   ],
   "source": [
    "pivot_year_name = pd.pivot_table(babyname,index='Year',\n",
    "                                columns='Sex',values='Count',\n",
    "                                aggfunc=sum)\n",
    "pivot_year_name"
   ]
  },
  {
   "cell_type": "code",
   "execution_count": 11,
   "id": "a965920d",
   "metadata": {},
   "outputs": [
    {
     "data": {
      "image/png": "[encoded data removed]",
      "text/plain": [
       "<Figure size 432x288 with 1 Axes>"
      ]
     },
     "metadata": {
      "needs_background": "light"
     },
     "output_type": "display_data"
    }
   ],
   "source": [
    "color = [\"#E188DB\", \"#334FFF\"]\n",
    "with sns.color_palette(sns.color_palette(color)):\n",
    "    pivot_year_name.plot(marker='.')\n",
    "    plt.title(\"Registered Names vs Year Stratified by Sex\")\n",
    "    plt.ylabel('Names Registered that Year')"
   ]
  },
  {
   "cell_type": "markdown",
   "id": "34c6f805",
   "metadata": {},
   "source": []
  },
  {
   "cell_type": "markdown",
   "id": "e7ec8d50",
   "metadata": {},
   "source": [
    "# Determining Gender from Names\n",
    "\n",
    "Let's use previous children's data to determine the number of males and females. As we did before, we start by converting all the letters in the children's data to lowercase:"
   ]
  },
  {
   "cell_type": "code",
   "execution_count": 12,
   "id": "7a0c7464",
   "metadata": {},
   "outputs": [
    {
     "data": {
      "text/html": [
       "<div>\n",
       "<style scoped>\n",
       "    .dataframe tbody tr th:only-of-type {\n",
       "        vertical-align: middle;\n",
       "    }\n",
       "\n",
       "    .dataframe tbody tr th {\n",
       "        vertical-align: top;\n",
       "    }\n",
       "\n",
       "    .dataframe thead th {\n",
       "        text-align: right;\n",
       "    }\n",
       "</style>\n",
       "<table border=\"1\" class=\"dataframe\">\n",
       "  <thead>\n",
       "    <tr style=\"text-align: right;\">\n",
       "      <th></th>\n",
       "      <th>Name</th>\n",
       "      <th>Sex</th>\n",
       "      <th>Count</th>\n",
       "      <th>Year</th>\n",
       "    </tr>\n",
       "  </thead>\n",
       "  <tbody>\n",
       "    <tr>\n",
       "      <th>443584</th>\n",
       "      <td>suzanne</td>\n",
       "      <td>F</td>\n",
       "      <td>5609</td>\n",
       "      <td>1949</td>\n",
       "    </tr>\n",
       "    <tr>\n",
       "      <th>1348996</th>\n",
       "      <td>wardell</td>\n",
       "      <td>M</td>\n",
       "      <td>10</td>\n",
       "      <td>2000</td>\n",
       "    </tr>\n",
       "    <tr>\n",
       "      <th>169144</th>\n",
       "      <td>elgie</td>\n",
       "      <td>M</td>\n",
       "      <td>16</td>\n",
       "      <td>1920</td>\n",
       "    </tr>\n",
       "    <tr>\n",
       "      <th>772585</th>\n",
       "      <td>eustacia</td>\n",
       "      <td>F</td>\n",
       "      <td>8</td>\n",
       "      <td>1975</td>\n",
       "    </tr>\n",
       "    <tr>\n",
       "      <th>1223566</th>\n",
       "      <td>angelicia</td>\n",
       "      <td>F</td>\n",
       "      <td>9</td>\n",
       "      <td>1996</td>\n",
       "    </tr>\n",
       "  </tbody>\n",
       "</table>\n",
       "</div>"
      ],
      "text/plain": [
       "              Name Sex  Count  Year\n",
       "443584     suzanne   F   5609  1949\n",
       "1348996    wardell   M     10  2000\n",
       "169144       elgie   M     16  1920\n",
       "772585    eustacia   F      8  1975\n",
       "1223566  angelicia   F      9  1996"
      ]
     },
     "execution_count": 12,
     "metadata": {},
     "output_type": "execute_result"
    }
   ],
   "source": [
    "babyname['Name'] = babyname['Name'].str.lower()\n",
    "babyname.sample(5)"
   ]
  },
  {
   "cell_type": "markdown",
   "id": "39d0babb",
   "metadata": {},
   "source": [
    "Then we gather the number of births for each name and the gender of the newborn."
   ]
  },
  {
   "cell_type": "code",
   "execution_count": 13,
   "id": "d2f4789a",
   "metadata": {},
   "outputs": [
    {
     "data": {
      "text/html": [
       "<div>\n",
       "<style scoped>\n",
       "    .dataframe tbody tr th:only-of-type {\n",
       "        vertical-align: middle;\n",
       "    }\n",
       "\n",
       "    .dataframe tbody tr th {\n",
       "        vertical-align: top;\n",
       "    }\n",
       "\n",
       "    .dataframe thead th {\n",
       "        text-align: right;\n",
       "    }\n",
       "</style>\n",
       "<table border=\"1\" class=\"dataframe\">\n",
       "  <thead>\n",
       "    <tr style=\"text-align: right;\">\n",
       "      <th>Sex</th>\n",
       "      <th>F</th>\n",
       "      <th>M</th>\n",
       "      <th>All</th>\n",
       "    </tr>\n",
       "    <tr>\n",
       "      <th>Name</th>\n",
       "      <th></th>\n",
       "      <th></th>\n",
       "      <th></th>\n",
       "    </tr>\n",
       "  </thead>\n",
       "  <tbody>\n",
       "    <tr>\n",
       "      <th>aaban</th>\n",
       "      <td>0</td>\n",
       "      <td>96</td>\n",
       "      <td>96</td>\n",
       "    </tr>\n",
       "    <tr>\n",
       "      <th>aabha</th>\n",
       "      <td>35</td>\n",
       "      <td>0</td>\n",
       "      <td>35</td>\n",
       "    </tr>\n",
       "    <tr>\n",
       "      <th>aabid</th>\n",
       "      <td>0</td>\n",
       "      <td>10</td>\n",
       "      <td>10</td>\n",
       "    </tr>\n",
       "    <tr>\n",
       "      <th>aabir</th>\n",
       "      <td>0</td>\n",
       "      <td>5</td>\n",
       "      <td>5</td>\n",
       "    </tr>\n",
       "    <tr>\n",
       "      <th>aabriella</th>\n",
       "      <td>26</td>\n",
       "      <td>0</td>\n",
       "      <td>26</td>\n",
       "    </tr>\n",
       "    <tr>\n",
       "      <th>...</th>\n",
       "      <td>...</td>\n",
       "      <td>...</td>\n",
       "      <td>...</td>\n",
       "    </tr>\n",
       "    <tr>\n",
       "      <th>zyvon</th>\n",
       "      <td>0</td>\n",
       "      <td>6</td>\n",
       "      <td>6</td>\n",
       "    </tr>\n",
       "    <tr>\n",
       "      <th>zyyanna</th>\n",
       "      <td>6</td>\n",
       "      <td>0</td>\n",
       "      <td>6</td>\n",
       "    </tr>\n",
       "    <tr>\n",
       "      <th>zyyon</th>\n",
       "      <td>0</td>\n",
       "      <td>6</td>\n",
       "      <td>6</td>\n",
       "    </tr>\n",
       "    <tr>\n",
       "      <th>zzyzx</th>\n",
       "      <td>0</td>\n",
       "      <td>5</td>\n",
       "      <td>5</td>\n",
       "    </tr>\n",
       "    <tr>\n",
       "      <th>All</th>\n",
       "      <td>170639571</td>\n",
       "      <td>173894326</td>\n",
       "      <td>344533897</td>\n",
       "    </tr>\n",
       "  </tbody>\n",
       "</table>\n",
       "<p>96175 rows × 3 columns</p>\n",
       "</div>"
      ],
      "text/plain": [
       "Sex                F          M        All\n",
       "Name                                      \n",
       "aaban              0         96         96\n",
       "aabha             35          0         35\n",
       "aabid              0         10         10\n",
       "aabir              0          5          5\n",
       "aabriella         26          0         26\n",
       "...              ...        ...        ...\n",
       "zyvon              0          6          6\n",
       "zyyanna            6          0          6\n",
       "zyyon              0          6          6\n",
       "zzyzx              0          5          5\n",
       "All        170639571  173894326  344533897\n",
       "\n",
       "[96175 rows x 3 columns]"
      ]
     },
     "execution_count": 13,
     "metadata": {},
     "output_type": "execute_result"
    }
   ],
   "source": [
    "sex_count = pd.pivot_table(babyname, index='Name',columns='Sex', values='Count',\n",
    "                          aggfunc=sum,fill_value=.0,margins=True)\n",
    "sex_count"
   ]
  },
  {
   "cell_type": "markdown",
   "id": "c49e6250",
   "metadata": {},
   "source": [
    "To determine whether a name is more common for male or female children, we can calculate the frequency ratio of the name for each gender:"
   ]
  },
  {
   "cell_type": "code",
   "execution_count": 14,
   "id": "7eb1fc45",
   "metadata": {},
   "outputs": [],
   "source": [
    "import ipywidgets as widgets\n",
    "from ipywidgets import interact,interactive,fixed,interact_manual\n",
    "\n",
    "def scroll(df,nr=7,nc=7):\n",
    "    def peek(row=0,col=0):\n",
    "        return df.iloc[row:row+nr,col:col+nc]\n",
    "    if len(df.columns) <= nc :\n",
    "        interact(peek,\n",
    "                row=(0,len(df)-nr,nr),\n",
    "                col=fixed(0))\n",
    "    else :\n",
    "        interact(peek,\n",
    "                row=(0,len(df)-nr,nr),\n",
    "                col=(0,len(df.columns),nc))"
   ]
  },
  {
   "cell_type": "code",
   "execution_count": 15,
   "id": "cfd10506",
   "metadata": {},
   "outputs": [
    {
     "data": {
      "application/vnd.jupyter.widget-view+json": {
       "model_id": "ef3b84da03584aa4ae5725b7dd3c9195",
       "version_major": 2,
       "version_minor": 0
      },
      "text/plain": [
       "interactive(children=(IntSlider(value=0, description='row', max=96168, step=7), Output()), _dom_classes=('widg…"
      ]
     },
     "metadata": {},
     "output_type": "display_data"
    }
   ],
   "source": [
    "prop_female = sex_count['F'] / sex_count['All']\n",
    "sex_count['prop_female'] = prop_female\n",
    "scroll(sex_count)"
   ]
  },
  {
   "cell_type": "code",
   "execution_count": 16,
   "id": "13373beb",
   "metadata": {},
   "outputs": [
    {
     "data": {
      "text/html": [
       "<div>\n",
       "<style scoped>\n",
       "    .dataframe tbody tr th:only-of-type {\n",
       "        vertical-align: middle;\n",
       "    }\n",
       "\n",
       "    .dataframe tbody tr th {\n",
       "        vertical-align: top;\n",
       "    }\n",
       "\n",
       "    .dataframe thead th {\n",
       "        text-align: right;\n",
       "    }\n",
       "</style>\n",
       "<table border=\"1\" class=\"dataframe\">\n",
       "  <thead>\n",
       "    <tr style=\"text-align: right;\">\n",
       "      <th>Sex</th>\n",
       "      <th>F</th>\n",
       "      <th>M</th>\n",
       "      <th>All</th>\n",
       "      <th>prop_female</th>\n",
       "    </tr>\n",
       "  </thead>\n",
       "  <tbody>\n",
       "    <tr>\n",
       "      <th>count</th>\n",
       "      <td>9.617500e+04</td>\n",
       "      <td>9.617500e+04</td>\n",
       "      <td>9.617500e+04</td>\n",
       "      <td>96175.000000</td>\n",
       "    </tr>\n",
       "    <tr>\n",
       "      <th>mean</th>\n",
       "      <td>3.548522e+03</td>\n",
       "      <td>3.616206e+03</td>\n",
       "      <td>7.164729e+03</td>\n",
       "      <td>0.633815</td>\n",
       "    </tr>\n",
       "    <tr>\n",
       "      <th>std</th>\n",
       "      <td>5.509654e+05</td>\n",
       "      <td>5.627054e+05</td>\n",
       "      <td>1.112335e+06</td>\n",
       "      <td>0.470597</td>\n",
       "    </tr>\n",
       "    <tr>\n",
       "      <th>min</th>\n",
       "      <td>0.000000e+00</td>\n",
       "      <td>0.000000e+00</td>\n",
       "      <td>5.000000e+00</td>\n",
       "      <td>0.000000</td>\n",
       "    </tr>\n",
       "    <tr>\n",
       "      <th>25%</th>\n",
       "      <td>0.000000e+00</td>\n",
       "      <td>0.000000e+00</td>\n",
       "      <td>1.100000e+01</td>\n",
       "      <td>0.000000</td>\n",
       "    </tr>\n",
       "    <tr>\n",
       "      <th>50%</th>\n",
       "      <td>1.100000e+01</td>\n",
       "      <td>0.000000e+00</td>\n",
       "      <td>4.600000e+01</td>\n",
       "      <td>1.000000</td>\n",
       "    </tr>\n",
       "    <tr>\n",
       "      <th>75%</th>\n",
       "      <td>1.030000e+02</td>\n",
       "      <td>2.500000e+01</td>\n",
       "      <td>2.410000e+02</td>\n",
       "      <td>1.000000</td>\n",
       "    </tr>\n",
       "    <tr>\n",
       "      <th>max</th>\n",
       "      <td>1.706396e+08</td>\n",
       "      <td>1.738943e+08</td>\n",
       "      <td>3.445339e+08</td>\n",
       "      <td>1.000000</td>\n",
       "    </tr>\n",
       "  </tbody>\n",
       "</table>\n",
       "</div>"
      ],
      "text/plain": [
       "Sex               F             M           All   prop_female\n",
       "count  9.617500e+04  9.617500e+04  9.617500e+04  96175.000000\n",
       "mean   3.548522e+03  3.616206e+03  7.164729e+03      0.633815\n",
       "std    5.509654e+05  5.627054e+05  1.112335e+06      0.470597\n",
       "min    0.000000e+00  0.000000e+00  5.000000e+00      0.000000\n",
       "25%    0.000000e+00  0.000000e+00  1.100000e+01      0.000000\n",
       "50%    1.100000e+01  0.000000e+00  4.600000e+01      1.000000\n",
       "75%    1.030000e+02  2.500000e+01  2.410000e+02      1.000000\n",
       "max    1.706396e+08  1.738943e+08  3.445339e+08      1.000000"
      ]
     },
     "execution_count": 16,
     "metadata": {},
     "output_type": "execute_result"
    }
   ],
   "source": [
    "sex_count.describe()"
   ]
  },
  {
   "cell_type": "code",
   "execution_count": null,
   "id": "012fe28e",
   "metadata": {},
   "outputs": [],
   "source": [
    "df_copy = babyname.copy()\n",
    "\n",
    "df_copy['predicted_sex'] = .apply(SexFromName)"
   ]
  },
  {
   "cell_type": "code",
   "execution_count": 51,
   "id": "b5ebf35d",
   "metadata": {
    "scrolled": true
   },
   "outputs": [
    {
     "data": {
      "text/plain": [
       "8887"
      ]
     },
     "execution_count": 51,
     "metadata": {},
     "output_type": "execute_result"
    }
   ],
   "source": [
    "sex_count['prop_female'].nunique()"
   ]
  },
  {
   "cell_type": "markdown",
   "id": "6ad88ce9",
   "metadata": {},
   "source": [
    "To determine that, we can define a function that searches for us whether the name is male or female using the previous ratio."
   ]
  },
  {
   "cell_type": "code",
   "execution_count": 33,
   "id": "ce832989",
   "metadata": {},
   "outputs": [],
   "source": [
    "def SexFromName(name):\n",
    "    if name in sex_count.index:\n",
    "        prop = sex_count.loc[name,'prop_female']\n",
    "        return 'F' if prop > 0.5 else 'M'\n",
    "    else:\n",
    "        return 'Name not in dataset'"
   ]
  },
  {
   "cell_type": "markdown",
   "id": "b3993a8e",
   "metadata": {},
   "source": [
    "Using the previous code snippet, can try any name and find out if the percentage of it being named as a male is higher than the percentage of it being named as a female.\n",
    "\n",
    "Now, let's go back to the student data and add whether the student is male or female:"
   ]
  },
  {
   "cell_type": "code",
   "execution_count": 34,
   "id": "e7b41007",
   "metadata": {},
   "outputs": [
    {
     "data": {
      "text/html": [
       "<div>\n",
       "<style scoped>\n",
       "    .dataframe tbody tr th:only-of-type {\n",
       "        vertical-align: middle;\n",
       "    }\n",
       "\n",
       "    .dataframe tbody tr th {\n",
       "        vertical-align: top;\n",
       "    }\n",
       "\n",
       "    .dataframe thead th {\n",
       "        text-align: right;\n",
       "    }\n",
       "</style>\n",
       "<table border=\"1\" class=\"dataframe\">\n",
       "  <thead>\n",
       "    <tr style=\"text-align: right;\">\n",
       "      <th></th>\n",
       "      <th>Name</th>\n",
       "      <th>Role</th>\n",
       "      <th>Sex</th>\n",
       "    </tr>\n",
       "  </thead>\n",
       "  <tbody>\n",
       "    <tr>\n",
       "      <th>0</th>\n",
       "      <td>keeley</td>\n",
       "      <td>Student</td>\n",
       "      <td>F</td>\n",
       "    </tr>\n",
       "    <tr>\n",
       "      <th>1</th>\n",
       "      <td>john</td>\n",
       "      <td>Student</td>\n",
       "      <td>M</td>\n",
       "    </tr>\n",
       "    <tr>\n",
       "      <th>2</th>\n",
       "      <td>bryan</td>\n",
       "      <td>Student</td>\n",
       "      <td>M</td>\n",
       "    </tr>\n",
       "    <tr>\n",
       "      <th>3</th>\n",
       "      <td>kaylan</td>\n",
       "      <td>Student</td>\n",
       "      <td>F</td>\n",
       "    </tr>\n",
       "    <tr>\n",
       "      <th>4</th>\n",
       "      <td>sol</td>\n",
       "      <td>Student</td>\n",
       "      <td>M</td>\n",
       "    </tr>\n",
       "    <tr>\n",
       "      <th>...</th>\n",
       "      <td>...</td>\n",
       "      <td>...</td>\n",
       "      <td>...</td>\n",
       "    </tr>\n",
       "    <tr>\n",
       "      <th>274</th>\n",
       "      <td>sukhbir</td>\n",
       "      <td>Student</td>\n",
       "      <td>Name not in dataset</td>\n",
       "    </tr>\n",
       "    <tr>\n",
       "      <th>275</th>\n",
       "      <td>nicholas</td>\n",
       "      <td>Waitlist Student</td>\n",
       "      <td>M</td>\n",
       "    </tr>\n",
       "    <tr>\n",
       "      <th>276</th>\n",
       "      <td>ernesto</td>\n",
       "      <td>Waitlist Student</td>\n",
       "      <td>M</td>\n",
       "    </tr>\n",
       "    <tr>\n",
       "      <th>277</th>\n",
       "      <td>athan</td>\n",
       "      <td>Waitlist Student</td>\n",
       "      <td>M</td>\n",
       "    </tr>\n",
       "    <tr>\n",
       "      <th>278</th>\n",
       "      <td>michael</td>\n",
       "      <td>Waitlist Student</td>\n",
       "      <td>M</td>\n",
       "    </tr>\n",
       "  </tbody>\n",
       "</table>\n",
       "<p>279 rows × 3 columns</p>\n",
       "</div>"
      ],
      "text/plain": [
       "         Name              Role                  Sex\n",
       "0      keeley           Student                    F\n",
       "1        john           Student                    M\n",
       "2       bryan           Student                    M\n",
       "3      kaylan           Student                    F\n",
       "4         sol           Student                    M\n",
       "..        ...               ...                  ...\n",
       "274   sukhbir           Student  Name not in dataset\n",
       "275  nicholas  Waitlist Student                    M\n",
       "276   ernesto  Waitlist Student                    M\n",
       "277     athan  Waitlist Student                    M\n",
       "278   michael  Waitlist Student                    M\n",
       "\n",
       "[279 rows x 3 columns]"
      ]
     },
     "execution_count": 34,
     "metadata": {},
     "output_type": "execute_result"
    }
   ],
   "source": [
    "data['Sex'] = data['Name'].apply(SexFromName)\n",
    "data"
   ]
  },
  {
   "cell_type": "markdown",
   "id": "75b938e1",
   "metadata": {},
   "source": [
    "***Now we can easily determine the number of males and females among our students.***"
   ]
  },
  {
   "cell_type": "markdown",
   "id": "626ff08d",
   "metadata": {},
   "source": [
    "# Finding Age from Name\n",
    "\n",
    "Using the same approach as before, we can find the distribution of age in our class by associating each name with the average years it has been repeated in:\n"
   ]
  },
  {
   "cell_type": "code",
   "execution_count": 19,
   "id": "9ebe95e5",
   "metadata": {},
   "outputs": [
    {
     "data": {
      "text/html": [
       "<div>\n",
       "<style scoped>\n",
       "    .dataframe tbody tr th:only-of-type {\n",
       "        vertical-align: middle;\n",
       "    }\n",
       "\n",
       "    .dataframe tbody tr th {\n",
       "        vertical-align: top;\n",
       "    }\n",
       "\n",
       "    .dataframe thead th {\n",
       "        text-align: right;\n",
       "    }\n",
       "</style>\n",
       "<table border=\"1\" class=\"dataframe\">\n",
       "  <thead>\n",
       "    <tr style=\"text-align: right;\">\n",
       "      <th></th>\n",
       "      <th>avg_year</th>\n",
       "    </tr>\n",
       "    <tr>\n",
       "      <th>Name</th>\n",
       "      <th></th>\n",
       "    </tr>\n",
       "  </thead>\n",
       "  <tbody>\n",
       "    <tr>\n",
       "      <th>aaban</th>\n",
       "      <td>2012.572917</td>\n",
       "    </tr>\n",
       "    <tr>\n",
       "      <th>aabha</th>\n",
       "      <td>2013.714286</td>\n",
       "    </tr>\n",
       "    <tr>\n",
       "      <th>aabid</th>\n",
       "      <td>2009.500000</td>\n",
       "    </tr>\n",
       "    <tr>\n",
       "      <th>aabir</th>\n",
       "      <td>2016.000000</td>\n",
       "    </tr>\n",
       "    <tr>\n",
       "      <th>aabriella</th>\n",
       "      <td>2013.884615</td>\n",
       "    </tr>\n",
       "    <tr>\n",
       "      <th>...</th>\n",
       "      <td>...</td>\n",
       "    </tr>\n",
       "    <tr>\n",
       "      <th>zyvion</th>\n",
       "      <td>2009.000000</td>\n",
       "    </tr>\n",
       "    <tr>\n",
       "      <th>zyvon</th>\n",
       "      <td>2015.000000</td>\n",
       "    </tr>\n",
       "    <tr>\n",
       "      <th>zyyanna</th>\n",
       "      <td>2010.000000</td>\n",
       "    </tr>\n",
       "    <tr>\n",
       "      <th>zyyon</th>\n",
       "      <td>2014.000000</td>\n",
       "    </tr>\n",
       "    <tr>\n",
       "      <th>zzyzx</th>\n",
       "      <td>2010.000000</td>\n",
       "    </tr>\n",
       "  </tbody>\n",
       "</table>\n",
       "<p>96174 rows × 1 columns</p>\n",
       "</div>"
      ],
      "text/plain": [
       "              avg_year\n",
       "Name                  \n",
       "aaban      2012.572917\n",
       "aabha      2013.714286\n",
       "aabid      2009.500000\n",
       "aabir      2016.000000\n",
       "aabriella  2013.884615\n",
       "...                ...\n",
       "zyvion     2009.000000\n",
       "zyvon      2015.000000\n",
       "zyyanna    2010.000000\n",
       "zyyon      2014.000000\n",
       "zzyzx      2010.000000\n",
       "\n",
       "[96174 rows x 1 columns]"
      ]
     },
     "execution_count": 19,
     "metadata": {},
     "output_type": "execute_result"
    }
   ],
   "source": [
    "def avg_year(group):\n",
    "    return np.average(group['Year'], weights=group['Count'])\n",
    "\n",
    "avg_years = (\n",
    "    babyname\n",
    "    .groupby('Name')\n",
    "    .apply(avg_year)\n",
    "    .rename('avg_year')\n",
    "    .to_frame()\n",
    ")\n",
    "avg_years"
   ]
  },
  {
   "cell_type": "markdown",
   "id": "e4a991fe",
   "metadata": {},
   "source": [
    "In the same way as before, we can search for any name and find out the average year of birth."
   ]
  },
  {
   "cell_type": "code",
   "execution_count": 23,
   "id": "f470b881",
   "metadata": {},
   "outputs": [
    {
     "data": {
      "text/html": [
       "<div>\n",
       "<style scoped>\n",
       "    .dataframe tbody tr th:only-of-type {\n",
       "        vertical-align: middle;\n",
       "    }\n",
       "\n",
       "    .dataframe tbody tr th {\n",
       "        vertical-align: top;\n",
       "    }\n",
       "\n",
       "    .dataframe thead th {\n",
       "        text-align: right;\n",
       "    }\n",
       "</style>\n",
       "<table border=\"1\" class=\"dataframe\">\n",
       "  <thead>\n",
       "    <tr style=\"text-align: right;\">\n",
       "      <th></th>\n",
       "      <th>Name</th>\n",
       "      <th>Role</th>\n",
       "      <th>Year</th>\n",
       "    </tr>\n",
       "  </thead>\n",
       "  <tbody>\n",
       "    <tr>\n",
       "      <th>0</th>\n",
       "      <td>keeley</td>\n",
       "      <td>Student</td>\n",
       "      <td>1998.147952</td>\n",
       "    </tr>\n",
       "    <tr>\n",
       "      <th>1</th>\n",
       "      <td>john</td>\n",
       "      <td>Student</td>\n",
       "      <td>1951.084937</td>\n",
       "    </tr>\n",
       "    <tr>\n",
       "      <th>2</th>\n",
       "      <td>bryan</td>\n",
       "      <td>Student</td>\n",
       "      <td>1983.565113</td>\n",
       "    </tr>\n",
       "    <tr>\n",
       "      <th>3</th>\n",
       "      <td>kaylan</td>\n",
       "      <td>Student</td>\n",
       "      <td>1998.587331</td>\n",
       "    </tr>\n",
       "    <tr>\n",
       "      <th>4</th>\n",
       "      <td>sol</td>\n",
       "      <td>Student</td>\n",
       "      <td>1948.074741</td>\n",
       "    </tr>\n",
       "    <tr>\n",
       "      <th>...</th>\n",
       "      <td>...</td>\n",
       "      <td>...</td>\n",
       "      <td>...</td>\n",
       "    </tr>\n",
       "    <tr>\n",
       "      <th>274</th>\n",
       "      <td>sukhbir</td>\n",
       "      <td>Student</td>\n",
       "      <td>NaN</td>\n",
       "    </tr>\n",
       "    <tr>\n",
       "      <th>275</th>\n",
       "      <td>nicholas</td>\n",
       "      <td>Waitlist Student</td>\n",
       "      <td>1988.055924</td>\n",
       "    </tr>\n",
       "    <tr>\n",
       "      <th>276</th>\n",
       "      <td>ernesto</td>\n",
       "      <td>Waitlist Student</td>\n",
       "      <td>1981.439873</td>\n",
       "    </tr>\n",
       "    <tr>\n",
       "      <th>277</th>\n",
       "      <td>athan</td>\n",
       "      <td>Waitlist Student</td>\n",
       "      <td>2004.397863</td>\n",
       "    </tr>\n",
       "    <tr>\n",
       "      <th>278</th>\n",
       "      <td>michael</td>\n",
       "      <td>Waitlist Student</td>\n",
       "      <td>1971.179231</td>\n",
       "    </tr>\n",
       "  </tbody>\n",
       "</table>\n",
       "<p>279 rows × 3 columns</p>\n",
       "</div>"
      ],
      "text/plain": [
       "         Name              Role         Year\n",
       "0      keeley           Student  1998.147952\n",
       "1        john           Student  1951.084937\n",
       "2       bryan           Student  1983.565113\n",
       "3      kaylan           Student  1998.587331\n",
       "4         sol           Student  1948.074741\n",
       "..        ...               ...          ...\n",
       "274   sukhbir           Student          NaN\n",
       "275  nicholas  Waitlist Student  1988.055924\n",
       "276   ernesto  Waitlist Student  1981.439873\n",
       "277     athan  Waitlist Student  2004.397863\n",
       "278   michael  Waitlist Student  1971.179231\n",
       "\n",
       "[279 rows x 3 columns]"
      ]
     },
     "execution_count": 23,
     "metadata": {},
     "output_type": "execute_result"
    }
   ],
   "source": [
    "def year_from_name(name):\n",
    "    return (avg_years.loc[name, 'avg_year']\n",
    "            if name in avg_years.index\n",
    "            else None)\n",
    "\n",
    "data['Year'] = data['Name'].apply(year_from_name)\n",
    "data"
   ]
  },
  {
   "cell_type": "markdown",
   "id": "14015d5b",
   "metadata": {},
   "source": [
    "Now, we can easily display the distribution of years among the students:"
   ]
  },
  {
   "cell_type": "code",
   "execution_count": 24,
   "id": "ab73ba03",
   "metadata": {},
   "outputs": [
    {
     "name": "stderr",
     "output_type": "stream",
     "text": [
      "/Users/mu/opt/anaconda3/lib/python3.9/site-packages/seaborn/distributions.py:2619: FutureWarning: `distplot` is a deprecated function and will be removed in a future version. Please adapt your code to use either `displot` (a figure-level function with similar flexibility) or `histplot` (an axes-level function for histograms).\n",
      "  warnings.warn(msg, FutureWarning)\n"
     ]
    },
    {
     "data": {
      "image/png": "[encoded data removed]",
      "text/plain": [
       "<Figure size 432x288 with 1 Axes>"
      ]
     },
     "metadata": {
      "needs_background": "light"
     },
     "output_type": "display_data"
    }
   ],
   "source": [
    "sns.distplot(data['Year'].dropna());"
   ]
  },
  {
   "cell_type": "markdown",
   "id": "2d6bd112",
   "metadata": {},
   "source": [
    "To calculate the average of the \"Year\" column, we do the following:"
   ]
  },
  {
   "cell_type": "code",
   "execution_count": 32,
   "id": "f52a7e8b",
   "metadata": {},
   "outputs": [
    {
     "data": {
      "text/plain": [
       "1983.846741800525"
      ]
     },
     "execution_count": 32,
     "metadata": {},
     "output_type": "execute_result"
    }
   ],
   "source": [
    "data['Year'].mean()"
   ]
  },
  {
   "cell_type": "markdown",
   "id": "025348bd",
   "metadata": {},
   "source": [
    "average age is 35 years (2018-1983=35), which is approximately twice the expected age for university students. Why do see such high ages?\n",
    "\n",
    "As a data scientist,  may come across results that we don't agree with or that contradict our expectations. The constant challenge we face is determining whether the surprising results are due to an error in our steps or a genuine error in the data. Since there is no easy way to guarantee accurate results, data scientists must have principles and rules to minimize finding incorrect results.\n",
    "\n",
    "***In this case, the only explanation for the unexpected result we encountered is that the most common names have been used for many years. For example, the name John is considered one of the most common names throughout history based on the data we obtained. We can confirm this by displaying a chart showing the number of children named John each year.***"
   ]
  },
  {
   "cell_type": "code",
   "execution_count": 39,
   "id": "a59d1152",
   "metadata": {},
   "outputs": [
    {
     "data": {
      "image/png": "[encoded data removed]",
      "text/plain": [
       "<Figure size 432x288 with 1 Axes>"
      ]
     },
     "metadata": {
      "needs_background": "light"
     },
     "output_type": "display_data"
    }
   ],
   "source": [
    "names = babyname.set_index('Name').sort_values('Year')\n",
    "jhon = names.loc['john']\n",
    "jhon[jhon['Sex'] == 'M'].plot('Year','Count')\n",
    "plt.title('Frequency of \"John\"');"
   ]
  },
  {
   "cell_type": "markdown",
   "id": "46ebee6e",
   "metadata": {},
   "source": [
    "It seems that the average age does not provide an accurate prediction of a person's age. But in some cases, the person's first name helps us with that, for example, when experimenting with the name Kanye, the following result appears:"
   ]
  },
  {
   "cell_type": "code",
   "execution_count": 40,
   "id": "34153f4c",
   "metadata": {},
   "outputs": [
    {
     "data": {
      "image/png": "[encoded data removed]",
      "text/plain": [
       "<Figure size 432x288 with 1 Axes>"
      ]
     },
     "metadata": {
      "needs_background": "light"
     },
     "output_type": "display_data"
    }
   ],
   "source": [
    "kanye = names.loc['kanye']\n",
    "kanye[kanye['Sex'] == 'M'].plot('Year','Count')\n",
    "plt.title('Frequency of \"Kanye\"');"
   ]
  },
  {
   "cell_type": "markdown",
   "id": "bee65f74",
   "metadata": {},
   "source": [
    "# Summary\n",
    "\n",
    "**In this project, quickly went through the data science lifecycle: forming the question or problem, finding and cleaning the data, exploratory data analysis, and inference and prediction.**"
   ]
  },
  {
   "cell_type": "markdown",
   "id": "94f360cc",
   "metadata": {},
   "source": [
    "The projct and all Data in my Github account :https://github.com/Muaeen/EDA"
   ]
  },
  {
   "cell_type": "code",
   "execution_count": null,
   "id": "5abf6963",
   "metadata": {},
   "outputs": [],
   "source": []
  }
 ],
 "metadata": {
  "kernelspec": {
   "display_name": "Python 3 (ipykernel)",
   "language": "python",
   "name": "python3"
  },
  "language_info": {
   "codemirror_mode": {
    "name": "ipython",
    "version": 3
   },
   "file_extension": ".py",
   "mimetype": "text/x-python",
   "name": "python",
   "nbconvert_exporter": "python",
   "pygments_lexer": "ipython3",
   "version": "3.9.12"
  }
 },
 "nbformat": 4,
 "nbformat_minor": 5
}
